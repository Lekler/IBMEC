{
  "nbformat": 4,
  "nbformat_minor": 0,
  "metadata": {
    "colab": {
      "provenance": [],
      "toc_visible": true,
      "include_colab_link": true
    },
    "kernelspec": {
      "name": "python3",
      "display_name": "Python 3"
    },
    "language_info": {
      "name": "python"
    }
  },
  "cells": [
    {
      "cell_type": "markdown",
      "metadata": {
        "id": "view-in-github",
        "colab_type": "text"
      },
      "source": [
        "<a href=\"https://colab.research.google.com/github/Lekler/IBMEC/blob/main/Business%20Labs/Tarefa_1_Business_Labs%20-%20Resolu%C3%A7%C3%A3o.ipynb\" target=\"_parent\"><img src=\"https://colab.research.google.com/assets/colab-badge.svg\" alt=\"Open In Colab\"/></a>"
      ]
    },
    {
      "cell_type": "markdown",
      "source": [
        "**1ª Tarefa de** ***Business Labs***\n",
        "---\n",
        "*Alexandre Rodrigues Cordeiro - 202202041238*"
      ],
      "metadata": {
        "id": "SzVMMfY_DCGF"
      }
    },
    {
      "cell_type": "markdown",
      "source": [
        "Instalando pré requisitos no Google Colab."
      ],
      "metadata": {
        "id": "Za5nptLPCRO0"
      }
    },
    {
      "cell_type": "code",
      "execution_count": null,
      "metadata": {
        "id": "D8xZr-Ye3Q8u",
        "colab": {
          "base_uri": "https://localhost:8080/"
        },
        "outputId": "cff101ca-0044-42d3-8538-00cc4b40ab73"
      },
      "outputs": [
        {
          "output_type": "stream",
          "name": "stdout",
          "text": [
            "Looking in indexes: https://pypi.org/simple, https://us-python.pkg.dev/colab-wheels/public/simple/\n",
            "Requirement already satisfied: matplotlib-venn in /usr/local/lib/python3.9/dist-packages (0.11.9)\n",
            "Requirement already satisfied: numpy in /usr/local/lib/python3.9/dist-packages (from matplotlib-venn) (1.22.4)\n",
            "Requirement already satisfied: scipy in /usr/local/lib/python3.9/dist-packages (from matplotlib-venn) (1.10.1)\n",
            "Requirement already satisfied: matplotlib in /usr/local/lib/python3.9/dist-packages (from matplotlib-venn) (3.7.1)\n",
            "Requirement already satisfied: contourpy>=1.0.1 in /usr/local/lib/python3.9/dist-packages (from matplotlib->matplotlib-venn) (1.0.7)\n",
            "Requirement already satisfied: pyparsing>=2.3.1 in /usr/local/lib/python3.9/dist-packages (from matplotlib->matplotlib-venn) (3.0.9)\n",
            "Requirement already satisfied: importlib-resources>=3.2.0 in /usr/local/lib/python3.9/dist-packages (from matplotlib->matplotlib-venn) (5.12.0)\n",
            "Requirement already satisfied: fonttools>=4.22.0 in /usr/local/lib/python3.9/dist-packages (from matplotlib->matplotlib-venn) (4.39.3)\n",
            "Requirement already satisfied: cycler>=0.10 in /usr/local/lib/python3.9/dist-packages (from matplotlib->matplotlib-venn) (0.11.0)\n",
            "Requirement already satisfied: kiwisolver>=1.0.1 in /usr/local/lib/python3.9/dist-packages (from matplotlib->matplotlib-venn) (1.4.4)\n",
            "Requirement already satisfied: pillow>=6.2.0 in /usr/local/lib/python3.9/dist-packages (from matplotlib->matplotlib-venn) (8.4.0)\n",
            "Requirement already satisfied: python-dateutil>=2.7 in /usr/local/lib/python3.9/dist-packages (from matplotlib->matplotlib-venn) (2.8.2)\n",
            "Requirement already satisfied: packaging>=20.0 in /usr/local/lib/python3.9/dist-packages (from matplotlib->matplotlib-venn) (23.0)\n",
            "Requirement already satisfied: zipp>=3.1.0 in /usr/local/lib/python3.9/dist-packages (from importlib-resources>=3.2.0->matplotlib->matplotlib-venn) (3.15.0)\n",
            "Requirement already satisfied: six>=1.5 in /usr/local/lib/python3.9/dist-packages (from python-dateutil>=2.7->matplotlib->matplotlib-venn) (1.16.0)\n"
          ]
        }
      ],
      "source": [
        "!pip install matplotlib-venn"
      ]
    },
    {
      "cell_type": "code",
      "source": [
        " !pip install numpy-financial"
      ],
      "metadata": {
        "colab": {
          "base_uri": "https://localhost:8080/"
        },
        "id": "DdDFojTLCEp7",
        "outputId": "6db058fc-915f-4918-d83f-0bde48862801"
      },
      "execution_count": null,
      "outputs": [
        {
          "output_type": "stream",
          "name": "stdout",
          "text": [
            "Looking in indexes: https://pypi.org/simple, https://us-python.pkg.dev/colab-wheels/public/simple/\n",
            "Collecting numpy-financial\n",
            "  Downloading numpy_financial-1.0.0-py3-none-any.whl (14 kB)\n",
            "Requirement already satisfied: numpy>=1.15 in /usr/local/lib/python3.9/dist-packages (from numpy-financial) (1.22.4)\n",
            "Installing collected packages: numpy-financial\n",
            "Successfully installed numpy-financial-1.0.0\n"
          ]
        }
      ]
    },
    {
      "cell_type": "markdown",
      "source": [
        "Importando as bibliotecas."
      ],
      "metadata": {
        "id": "_7IWu6TvCimg"
      }
    },
    {
      "cell_type": "code",
      "source": [
        "import sys, locale\n",
        "import numpy as np\n",
        "from pandas import Series, DataFrame\n",
        "import numpy_financial as npf\n",
        "import matplotlib.pyplot as plt"
      ],
      "metadata": {
        "id": "hEiwBkZ4Clk8"
      },
      "execution_count": null,
      "outputs": []
    },
    {
      "cell_type": "markdown",
      "source": [
        "A - Se os dois projetos são independentes e o custo de capital é de 10% ao ano, qual projeto(s) deve(m) ser empreendido(s) pela empresa?"
      ],
      "metadata": {
        "id": "NmTOjT8jCos4"
      }
    },
    {
      "cell_type": "code",
      "source": [
        "# Fluxos de caixa para o projeto X\n",
        "fc_x = [-1000, 100, 600, 800]\n",
        "\n",
        "# Fluxos de caixa para o projeto Y\n",
        "fc_y = [-1000, 700, 500, 200]"
      ],
      "metadata": {
        "id": "Tv9siev1KDfy"
      },
      "execution_count": null,
      "outputs": []
    },
    {
      "cell_type": "markdown",
      "source": [
        "VPL para cada projeto utilizando uma taxa de desconto de 10%:"
      ],
      "metadata": {
        "id": "lkxaH-ESKLzA"
      }
    },
    {
      "cell_type": "code",
      "source": [
        "# Taxa de desconto\n",
        "r = 0.1\n",
        "\n",
        "# VPL para o projeto X\n",
        "vpl_x = npf.npv(r, fc_x)\n",
        "\n",
        "# VPL para o projeto Y\n",
        "vpl_y = npf.npv(r, fc_y)\n",
        "\n",
        "print(f'VPL do Projeto X: R$ {vpl_x:,.2f}')\n",
        "print(f'VPL do Projeto Y: R$ {vpl_y:,.2f}')"
      ],
      "metadata": {
        "colab": {
          "base_uri": "https://localhost:8080/"
        },
        "id": "7da1KymcKHWp",
        "outputId": "ced8c4e7-25f5-4ae5-9777-24f34b024c93"
      },
      "execution_count": null,
      "outputs": [
        {
          "output_type": "stream",
          "name": "stdout",
          "text": [
            "VPL do Projeto X: R$ 187.83\n",
            "VPL do Projeto Y: R$ 199.85\n"
          ]
        }
      ]
    },
    {
      "cell_type": "markdown",
      "source": [
        "TIR para cada projeto"
      ],
      "metadata": {
        "id": "D9Gu1g82Ki-z"
      }
    },
    {
      "cell_type": "code",
      "source": [
        "# TIR para o projeto X\n",
        "tir_x = npf.irr(fc_x)\n",
        "\n",
        "# TIR para o projeto Y\n",
        "tir_y = npf.irr(fc_y)\n",
        "\n",
        "print(f'TIR do Projeto X: {tir_x:.2%}')\n",
        "print(f'TIR do Projeto Y: {tir_y:.2%}')"
      ],
      "metadata": {
        "colab": {
          "base_uri": "https://localhost:8080/"
        },
        "id": "0t2JqcJWKTDu",
        "outputId": "f3b3bfff-5f51-40c0-89da-c2b82ebc8140"
      },
      "execution_count": null,
      "outputs": [
        {
          "output_type": "stream",
          "name": "stdout",
          "text": [
            "TIR do Projeto X: 18.13%\n",
            "TIR do Projeto Y: 23.56%\n"
          ]
        }
      ]
    },
    {
      "cell_type": "markdown",
      "source": [
        "MTIR para cada projeto"
      ],
      "metadata": {
        "id": "stHCuaxFKlXm"
      }
    },
    {
      "cell_type": "code",
      "source": [
        "# MTIR para o projeto X\n",
        "mtir_x = npf.mirr(fc_x, r, reinvest_rate=r)\n",
        "\n",
        "# MTIR para o projeto Y\n",
        "mtir_y = npf.mirr(fc_y, r, reinvest_rate=r)\n",
        "\n",
        "print(f'MTIR do Projeto X: {mtir_x:.2%}')\n",
        "print(f'MTIR do Projeto Y: {mtir_y:.2%}')"
      ],
      "metadata": {
        "colab": {
          "base_uri": "https://localhost:8080/"
        },
        "id": "50isew0pKWtR",
        "outputId": "3f9560d3-2f99-43e5-975e-e9dcc5827dcc"
      },
      "execution_count": null,
      "outputs": [
        {
          "output_type": "stream",
          "name": "stdout",
          "text": [
            "MTIR do Projeto X: 16.50%\n",
            "MTIR do Projeto Y: 16.89%\n"
          ]
        }
      ]
    },
    {
      "cell_type": "markdown",
      "source": [
        "B - Se os dois projetos são mutuamente exclusivos e o custo de capital é de 5% ao ano, qual projeto deve ser empreendido pela empresa? "
      ],
      "metadata": {
        "id": "teIGZbfjKrJu"
      }
    },
    {
      "cell_type": "code",
      "source": [
        "# Fluxos de caixa para o projeto X\n",
        "fc_x = [-1000, 100, 600, 800]\n",
        "\n",
        "# Fluxos de caixa para o projeto Y\n",
        "fc_y = [-1000, 700, 500, 200]\n",
        "\n",
        "# Taxa de desconto\n",
        "r = 0.05\n",
        "\n",
        "# VPL para o projeto X\n",
        "vpl_x = npf.npv(r, fc_x)\n",
        "\n",
        "# VPL para o projeto Y\n",
        "vpl_y = npf.npv(r, fc_y)\n",
        "\n",
        "# TIR para o projeto X\n",
        "tir_x = npf.irr(fc_x)\n",
        "\n",
        "# TIR para o projeto Y\n",
        "tir_y = npf.irr(fc_y)\n",
        "\n",
        "# MTIR para o projeto X\n",
        "mtir_x = npf.mirr(fc_x, r, reinvest_rate=r)\n",
        "\n",
        "# MTIR para o projeto Y\n",
        "mtir_y = npf.mirr(fc_y, r, reinvest_rate=r)\n",
        "\n",
        "print(f'Projeto X:')\n",
        "print(f'VPL: R$ {vpl_x:,.2f}')\n",
        "print(f'TIR: {tir_x:.2%}')\n",
        "print(f'MTIR: {mtir_x:.2%}')\n",
        "print('')\n",
        "\n",
        "print(f'Projeto Y:')\n",
        "print(f'VPL: R$ {vpl_y:,.2f}')\n",
        "print(f'TIR: {tir_y:.2%}')\n",
        "print(f'MTIR: {mtir_y:.2%}')"
      ],
      "metadata": {
        "colab": {
          "base_uri": "https://localhost:8080/"
        },
        "id": "VKzQTrDRKrg8",
        "outputId": "66eaac1c-b7f4-403a-ad99-9e04340e586a"
      },
      "execution_count": null,
      "outputs": [
        {
          "output_type": "stream",
          "name": "stdout",
          "text": [
            "Projeto X:\n",
            "VPL: R$ 330.53\n",
            "TIR: 18.13%\n",
            "MTIR: 15.49%\n",
            "\n",
            "Projeto Y:\n",
            "VPL: R$ 292.95\n",
            "TIR: 23.56%\n",
            "MTIR: 14.39%\n"
          ]
        }
      ]
    },
    {
      "cell_type": "markdown",
      "source": [
        "c) Se os dois projetos são mutuamente exclusivos e o custo de capital é de 15% ao ano, qual projeto deve ser empreendido pela empresa? "
      ],
      "metadata": {
        "id": "K18I7AkkLCW0"
      }
    },
    {
      "cell_type": "code",
      "source": [
        "# Fluxos de caixa para o projeto X\n",
        "fc_x = [-1000, 100, 600, 800]\n",
        "\n",
        "# Fluxos de caixa para o projeto Y\n",
        "fc_y = [-1000, 700, 500, 200]\n",
        "\n",
        "# Taxa de desconto\n",
        "r = 0.15\n",
        "\n",
        "# VPL para o projeto X\n",
        "vpl_x = npf.npv(r, fc_x)\n",
        "\n",
        "# VPL para o projeto Y\n",
        "vpl_y = npf.npv(r, fc_y)\n",
        "\n",
        "# TIR para o projeto X\n",
        "tir_x = npf.irr(fc_x)\n",
        "\n",
        "# TIR para o projeto Y\n",
        "tir_y = npf.irr(fc_y)\n",
        "\n",
        "# MTIR para o projeto X\n",
        "mtir_x = npf.mirr(fc_x, r, reinvest_rate=r)\n",
        "\n",
        "# MTIR para o projeto Y\n",
        "mtir_y = npf.mirr(fc_y, r, reinvest_rate=r)\n",
        "\n",
        "print(f'Projeto X:')\n",
        "print(f'VPL: R$ {vpl_x:,.2f}')\n",
        "print(f'TIR: {tir_x:.2%}')\n",
        "print(f'MTIR: {mtir_x:.2%}')\n",
        "print('')\n",
        "\n",
        "print(f'Projeto Y:')\n",
        "print(f'VPL: R$ {vpl_y:,.2f}')\n",
        "print(f'TIR: {tir_y:.2%}')\n",
        "print(f'MTIR: {mtir_y:.2%}')\n"
      ],
      "metadata": {
        "colab": {
          "base_uri": "https://localhost:8080/"
        },
        "id": "gTNH69N7LDNw",
        "outputId": "7140b131-11ed-4d98-a0e2-3037ee23b006"
      },
      "execution_count": null,
      "outputs": [
        {
          "output_type": "stream",
          "name": "stdout",
          "text": [
            "Projeto X:\n",
            "VPL: R$ 66.66\n",
            "TIR: 18.13%\n",
            "MTIR: 17.50%\n",
            "\n",
            "Projeto Y:\n",
            "VPL: R$ 118.27\n",
            "TIR: 23.56%\n",
            "MTIR: 19.37%\n"
          ]
        }
      ]
    },
    {
      "cell_type": "markdown",
      "source": [
        "\n",
        "D - Qual é a taxa de equilíbrio (Intersecção de Fisher) desse problema? Ilustre o gráfico e o explique. "
      ],
      "metadata": {
        "id": "D55H9MwlLbyF"
      }
    },
    {
      "cell_type": "code",
      "source": [
        "# Fluxos de caixa para o projeto X\n",
        "fc_x = [-1000, 100, 600, 800]\n",
        "\n",
        "# Fluxos de caixa para o projeto Y\n",
        "fc_y = [-1000, 700, 500, 200]\n",
        "\n",
        "# Taxa de desconto inicial\n",
        "r = 0.01\n",
        "\n",
        "# Listas para armazenar as taxas e os VPLs calculados\n",
        "taxas = []\n",
        "vpls_x = []\n",
        "vpls_y = []\n",
        "\n",
        "# Loop para calcular os VPLs para diferentes taxas de desconto\n",
        "while r <= 1:\n",
        "    vpl_x = npf.npv(r, fc_x)\n",
        "    vpl_y = npf.npv(r, fc_y)\n",
        "    taxas.append(r)\n",
        "    vpls_x.append(vpl_x)\n",
        "    vpls_y.append(vpl_y)\n",
        "    r += 0.01\n",
        "\n",
        "# Plotagem do gráfico de VPLs em função da taxa de desconto\n",
        "import matplotlib.pyplot as plt\n",
        "\n",
        "plt.plot(taxas, vpls_x, label='Projeto X')\n",
        "plt.plot(taxas, vpls_y, label='Projeto Y')\n",
        "plt.xlabel('Taxa de desconto')\n",
        "plt.ylabel('VPL')\n",
        "plt.legend()\n",
        "plt.grid()\n",
        "plt.show()\n"
      ],
      "metadata": {
        "colab": {
          "base_uri": "https://localhost:8080/",
          "height": 449
        },
        "id": "1On_rBWOLiBr",
        "outputId": "8bea02e3-fcfb-49c1-afee-634d25057470"
      },
      "execution_count": null,
      "outputs": [
        {
          "output_type": "display_data",
          "data": {
            "text/plain": [
              "<Figure size 640x480 with 1 Axes>"
            ],
            "image/png": "[encoded data removed]"
          },
          "metadata": {}
        }
      ]
    },
    {
      "cell_type": "markdown",
      "source": [
        "E - Caso haja conflito decisório entre os itens (b) e (c), qual é sua causa mais provável? Diante da suposta existência de conflito, qual seria a recomendação decisória mais apropriada? "
      ],
      "metadata": {
        "id": "UIlEDKTYLr-2"
      }
    },
    {
      "cell_type": "markdown",
      "source": [
        "Os itens (b) e (c) apresentaram resultados conflitantes porque a escolha do projeto depende da taxa de desconto utilizada. É possível que a escolha do projeto mais adequado seja influenciada por outros fatores, como a disponibilidade de recursos financeiros, a estratégia de longo prazo da empresa, o perfil de risco e outros critérios específicos."
      ],
      "metadata": {
        "id": "AkfABSEqNIUk"
      }
    },
    {
      "cell_type": "markdown",
      "source": [
        "---\n",
        "disclaimer: Feito no Google Colab com a ajuda do StackOverflow.\n"
      ],
      "metadata": {
        "id": "SehN1KjBNXH5"
      }
    }
  ]
}