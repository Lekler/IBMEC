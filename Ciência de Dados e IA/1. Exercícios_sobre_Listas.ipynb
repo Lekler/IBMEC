{
  "cells": [
    {
      "cell_type": "markdown",
      "metadata": {
        "colab_type": "text",
        "id": "view-in-github"
      },
      "source": [
        "<a href=\"https://colab.research.google.com/github/Lekler/IBMEC/blob/main/Exerc%C3%ADcios_sobre_Listas.ipynb\" target=\"_parent\"><img src=\"https://colab.research.google.com/assets/colab-badge.svg\" alt=\"Open In Colab\"/></a>"
      ]
    },
    {
      "cell_type": "code",
      "execution_count": 1,
      "metadata": {
        "colab": {
          "base_uri": "https://localhost:8080/"
        },
        "id": "rT8WacIARlJx",
        "outputId": "77209be0-98a2-47a6-d50e-b08b80d440dc"
      },
      "outputs": [
        {
          "name": "stdout",
          "output_type": "stream",
          "text": [
            "Primeiro elemento: maçã\n",
            "Último elemento: uva\n",
            "Lista após adicionar 'manga': ['maçã', 'banana', 'laranja', 'uva', 'manga']\n",
            "Lista após remover 'banana': ['maçã', 'laranja', 'uva', 'manga']\n",
            "Lista após substituir 'laranja' por 'abacaxi': ['maçã', 'abacaxi', 'uva', 'manga']\n",
            "Lista de números de 1 a 10: [1, 2, 3, 4, 5, 6, 7, 8, 9, 10]\n",
            "Soma de todos os números: 55\n",
            "Maior número: 10\n",
            "Menor número: 1\n",
            "Lista invertida: [10, 9, 8, 7, 6, 5, 4, 3, 2, 1]\n",
            "Cidades em ordem alfabética: ['Belo Horizonte', 'Curitiba', 'Rio de Janeiro', 'São Paulo']\n",
            "Lista após adicionar 'Porto Alegre': ['Belo Horizonte', 'Curitiba', 'Rio de Janeiro', 'São Paulo', 'Porto Alegre']\n",
            "Índice de 'Curitiba': 1\n",
            "Lista após remover 'Rio de Janeiro': ['Belo Horizonte', 'Curitiba', 'São Paulo', 'Porto Alegre']\n",
            "Lista concatenada (lista3): [1, 2, 3, 4, 5, 6]\n",
            "Todos os animais: ['cachorro', 'gato', 'coelho', 'leão', 'tigre', 'urso']\n",
            "Nomes na lista:\n",
            "Ana\n",
            "Pedro\n",
            "Maria\n",
            "João\n",
            "Nomes em maiúsculas: ['ANA', 'PEDRO', 'MARIA', 'JOÃO']\n"
          ]
        }
      ],
      "source": [
        "# Exercícios sobre Listas\n",
        "\n",
        "# 1. Crie uma lista frutas contendo as seguintes frutas: \"maçã\", \"banana\", \"laranja\", \"uva\".\n",
        "frutas = [\"maçã\", \"banana\", \"laranja\", \"uva\"]\n",
        "\n",
        "# 2. Imprima o primeiro e o último elemento da lista.\n",
        "print(f\"Primeiro elemento: {frutas[0]}\")\n",
        "print(f\"Último elemento: {frutas[-1]}\")\n",
        "\n",
        "# 3. Adicione a fruta \"manga\" ao final da lista.\n",
        "frutas.append(\"manga\")\n",
        "print(f\"Lista após adicionar 'manga': {frutas}\")\n",
        "\n",
        "# 4. Remova a fruta \"banana\" da lista.\n",
        "frutas.remove(\"banana\")\n",
        "print(f\"Lista após remover 'banana': {frutas}\")\n",
        "\n",
        "# 5. Substitua \"laranja\" por \"abacaxi\".\n",
        "index_laranja = frutas.index(\"laranja\")\n",
        "frutas[index_laranja] = \"abacaxi\"\n",
        "print(f\"Lista após substituir 'laranja' por 'abacaxi': {frutas}\")\n",
        "\n",
        "# 6. Crie uma lista numeros contendo os números de 1 a 10.\n",
        "numeros = list(range(1, 11))\n",
        "print(f\"Lista de números de 1 a 10: {numeros}\")\n",
        "\n",
        "# 7. Calcule e imprima a soma de todos os números da lista.\n",
        "soma_numeros = sum(numeros)\n",
        "print(f\"Soma de todos os números: {soma_numeros}\")\n",
        "\n",
        "# 8. Encontre e imprima o maior e o menor número da lista.\n",
        "maior_numero = max(numeros)\n",
        "menor_numero = min(numeros)\n",
        "print(f\"Maior número: {maior_numero}\")\n",
        "print(f\"Menor número: {menor_numero}\")\n",
        "\n",
        "# 9. Inverta a ordem dos elementos na lista e imprima a lista invertida.\n",
        "numeros_invertidos = numeros[::-1]\n",
        "print(f\"Lista invertida: {numeros_invertidos}\")\n",
        "\n",
        "# 10. Crie uma lista cidades contendo as seguintes cidades: \"São Paulo\", \"Rio de Janeiro\", \"Belo Horizonte\", \"Curitiba\".\n",
        "cidades = [\"São Paulo\", \"Rio de Janeiro\", \"Belo Horizonte\", \"Curitiba\"]\n",
        "\n",
        "# 11. Ordene a lista cidades em ordem alfabética.\n",
        "cidades.sort()\n",
        "print(f\"Cidades em ordem alfabética: {cidades}\")\n",
        "\n",
        "# 12. Adicione a cidade \"Porto Alegre\" ao final da lista.\n",
        "cidades.append(\"Porto Alegre\")\n",
        "print(f\"Lista após adicionar 'Porto Alegre': {cidades}\")\n",
        "\n",
        "# 13. Encontre o índice da cidade \"Curitiba\" na lista.\n",
        "index_curitiba = cidades.index(\"Curitiba\")\n",
        "print(f\"Índice de 'Curitiba': {index_curitiba}\")\n",
        "\n",
        "# 14. Remova a cidade \"Rio de Janeiro\" da lista.\n",
        "cidades.remove(\"Rio de Janeiro\")\n",
        "print(f\"Lista após remover 'Rio de Janeiro': {cidades}\")\n",
        "\n",
        "# 15. Crie duas listas lista1 e lista2, onde lista1 contém os números [1, 2, 3] e lista2 contém os números [4, 5, 6].\n",
        "lista1 = [1, 2, 3]\n",
        "lista2 = [4, 5, 6]\n",
        "\n",
        "# 16. Concatene lista1 e lista2 em uma nova lista lista3.\n",
        "lista3 = lista1 + lista2\n",
        "\n",
        "# 17. Imprima lista3.\n",
        "print(f\"Lista concatenada (lista3): {lista3}\")\n",
        "\n",
        "# 18. Crie duas listas animais_domesticos e animais_selvagens, onde animais_domesticos contém [\"cachorro\", \"gato\", \"coelho\"] e animais_selvagens contém [\"leão\", \"tigre\", \"urso\"].\n",
        "animais_domesticos = [\"cachorro\", \"gato\", \"coelho\"]\n",
        "animais_selvagens = [\"leão\", \"tigre\", \"urso\"]\n",
        "\n",
        "# 19. Concatene as duas listas em uma nova lista todos_animais.\n",
        "todos_animais = animais_domesticos + animais_selvagens\n",
        "\n",
        "# 20. Imprima todos_animais.\n",
        "print(f\"Todos os animais: {todos_animais}\")\n",
        "\n",
        "# Exercícios sobre Listas com Looping\n",
        "\n",
        "# 21. Crie uma lista nomes contendo os nomes: \"Ana\", \"Pedro\", \"Maria\", \"João\".\n",
        "nomes = [\"Ana\", \"Pedro\", \"Maria\", \"João\"]\n",
        "\n",
        "# 22. Utilize um loop for para imprimir cada nome da lista.\n",
        "print(\"Nomes na lista:\")\n",
        "for nome in nomes:\n",
        "    print(nome)\n",
        "\n",
        "# 23. Crie uma nova lista nomes_maiusculos contendo os nomes da lista nomes em letras maiúsculas. Utilize um loop for para isso.\n",
        "nomes_maiusculos = []\n",
        "for nome in nomes:\n",
        "    nomes_maiusculos.append(nome.upper())\n",
        "\n",
        "print(f\"Nomes em maiúsculas: {nomes_maiusculos}\")\n"
      ]
    }
  ],
  "metadata": {
    "colab": {
      "authorship_tag": "ABX9TyOz3gvo9NLBUpjvUlHgCeCx",
      "include_colab_link": true,
      "provenance": []
    },
    "kernelspec": {
      "display_name": "Python 3",
      "name": "python3"
    },
    "language_info": {
      "codemirror_mode": {
        "name": "ipython",
        "version": 3
      },
      "file_extension": ".py",
      "mimetype": "text/x-python",
      "name": "python",
      "nbconvert_exporter": "python",
      "pygments_lexer": "ipython3",
      "version": "3.12.5"
    }
  },
  "nbformat": 4,
  "nbformat_minor": 0
}
